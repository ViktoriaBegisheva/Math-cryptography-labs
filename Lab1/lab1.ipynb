{
 "cells": [
  {
   "cell_type": "code",
   "execution_count": 34,
   "id": "b2571e44",
   "metadata": {},
   "outputs": [],
   "source": [
    "import numpy\n",
    "import matplotlib.pyplot as plt\n",
    "from collections import Counter"
   ]
  },
  {
   "cell_type": "code",
   "execution_count": 99,
   "id": "409f714b",
   "metadata": {},
   "outputs": [
    {
     "data": {
      "image/png": "[encoded data removed]",
      "text/plain": [
       "<Figure size 432x288 with 1 Axes>"
      ]
     },
     "metadata": {
      "needs_background": "light"
     },
     "output_type": "display_data"
    }
   ],
   "source": [
    "#1\n",
    "\n",
    "alphabet = ['а', 'б', 'в', 'г', 'ґ', 'д', 'е', 'є', 'ж', 'з', 'и', \n",
    "            'і', 'ї', 'й', 'к', 'л', 'м', 'н', 'о', 'п', 'р', 'с', \n",
    "            'т', 'у', 'ф', 'х', 'ц', 'ч', 'ш', 'щ', 'ь', 'ю', 'я']\n",
    "\n",
    "\n",
    "def cleanstr(s):\n",
    "    l=\"\"\n",
    "    s=s.lower()\n",
    "    for i in s:\n",
    "        if i in alphabet:\n",
    "            l+=i\n",
    "    return l\n",
    "\n",
    "f = open('book.txt', 'r',encoding=\"utf-8\")\n",
    "text=f.readlines()\n",
    "text=cleanstr(\"\".join(text))\n",
    "#print(text[:100])\n",
    "f.close()\n",
    "\n",
    "d=Counter(cleanstr(text))\n",
    "for i in alphabet:\n",
    "    if i not in d:\n",
    "        d[i]=0.00001\n",
    "\n",
    "su=sum(d.values())\n",
    "prob_lett=[d[i]/su for i in alphabet]\n",
    "plt.bar(alphabet,prob_lett)\n",
    "plt.show()\n"
   ]
  },
  {
   "cell_type": "code",
   "execution_count": 100,
   "id": "a957cb3a",
   "metadata": {},
   "outputs": [
    {
     "name": "stdout",
     "output_type": "stream",
     "text": [
      "веснакраснаколисьприйде\n",
      "імґнзфгаьчмкчхцсещгитлт\n",
      "веснакраснаколисьприйде\n"
     ]
    }
   ],
   "source": [
    "#2\n",
    "\n",
    "sk=\"зима\"#input()\n",
    "pt_inp=\"веснакраснаколисьприйде\"#input()\n",
    "pt=pt_inp.strip()\n",
    "\n",
    "Alph=\"абвгґдеєжзиіїйклмнопрстуфхцчшщьюя\"\n",
    "alph={Alph[i]:i for i in range(len(Alph))}\n",
    "alph_rec={i:Alph[i] for i in range(len(Alph))}\n",
    "\n",
    "def vigenere_encr(sk,pt):\n",
    "    ct=\"\"\n",
    "    for i in range(len(pt)):\n",
    "        k=(alph[pt[i]]+alph[sk[i%len(sk)]])%len(Alph)\n",
    "        ct+=alph_rec[k]\n",
    "    return ct\n",
    "\n",
    "def vigenere_decr(sk,ct):\n",
    "    pt=\"\"\n",
    "    for i in range(len(ct)):\n",
    "        k=(alph[ct[i]]-alph[sk[i%len(sk)]])%len(Alph)\n",
    "        pt+=alph_rec[k]\n",
    "    return pt\n",
    "\n",
    "print(pt)\n",
    "ct=vigenere_encr(sk,pt)\n",
    "print(ct)\n",
    "pt=vigenere_decr(sk,ct)\n",
    "print(pt)"
   ]
  },
  {
   "cell_type": "code",
   "execution_count": 101,
   "id": "832619aa",
   "metadata": {},
   "outputs": [
    {
     "name": "stdout",
     "output_type": "stream",
     "text": [
      "pt:  хібаревутьволиякяслаповніпанасмирнийчастинапершапольовацарівнанадворівеснавповнікудинегляньскрізьрозвернулосярозпустилосязацвілопишнимцвітомяснесонцетеплейприязнещеневспілоналожитипалючихслідівназемлю\n",
      "\n",
      "ct:  ііоажтїиеєлґлчявлювнщюсншпсаижарагиьчсґяьбияхрїаєбхнвїйїаґіуаиґнллґршвчґчрпщюсншкісрґуйшонксвгсщкьюшвурдехддзаґзгуздрввюїшаивяюшечдьщмивядшгмюьхсвнктяцгхпяпґирхчцймьхвдпяюшґнхючиеиємхоірдєлшдяочрцмщбю\n",
      "\n",
      "Key length: 11\n",
      "Key: панасмирний\n",
      "\n",
      " хібаревутьволиякяслаповніпанасмирнийчастинапершапольовацарівнанадворівеснавповнікудинегляньскрізьрозвернулосярозпустилосязацвілопишнимцвітомяснесонцетеплейприязнещеневспілоналожитипалючихслідівназемлю\n"
     ]
    }
   ],
   "source": [
    "# 3\n",
    "\n",
    "def countIoC(txt):\n",
    "    letterCounts = Counter(txt)\n",
    "\n",
    "    F = 0\n",
    "    for letter in letterCounts:\n",
    "        F += letterCounts[letter] * (letterCounts[letter] - 1)\n",
    "\n",
    "    N = len(txt)\n",
    "    IoC = F / (N * (N - 1))\n",
    "    return IoC\n",
    "     \n",
    "print(\"pt: \",text[:200])\n",
    "cipherText = vigenere_encr(\"панасмирний\",text)\n",
    "print(\"\\nct: \",cipherText[:200])\n",
    "ct_len = len(cipherText)\n",
    "\n",
    "\n",
    "IoC_list = []\n",
    "\n",
    "for period in range(5, 21):\n",
    "    period_list = []\n",
    "    for i in range(period):\n",
    "        substring = \"\"\n",
    "        for j in range(i, ct_len, period):\n",
    "            substring += cipherText[j]\n",
    "        period_list.append(substring)\n",
    "    IoC_list.append([countIoC(i) for i in period_list])\n",
    "\n",
    "IoC_average = [sum(i) / len(i) for i in IoC_list]\n",
    "key_len = 5 + IoC_average.index(max(IoC_average))\n",
    "print(\"\\nKey length:\", key_len)\n",
    "\n",
    "def CaesarCipher(txt, k):\n",
    "    t=\"\"\n",
    "    for c in txt:\n",
    "        if c in alphabet:\n",
    "            t+=alphabet[(alphabet.index(c)-k)%len(alphabet)]\n",
    "        else:\n",
    "            t+=c\n",
    "    return t\n",
    "\n",
    "\n",
    "def ChiSq(txt):\n",
    "    \n",
    "    letter_count=Counter(txt)\n",
    "    all_letters = sum(dict(letter_count).values())\n",
    "    \n",
    "    cs = 0\n",
    "    for i in alphabet:\n",
    "        cs += ((letter_count[i] - \n",
    "                all_letters*prob_lett[alphabet.index(i)])\n",
    "               **2)/(all_letters*prob_lett[alphabet.index(i)])\n",
    "    return cs\n",
    "     \n",
    "\n",
    "secret_key = \"\"\n",
    "for i in range(key_len):\n",
    "    substring = \"\"\n",
    "    for j in range(i, ct_len, key_len):\n",
    "        substring += cipherText[j]\n",
    "    all_chisq = []\n",
    "    for k in range(len(alphabet)):\n",
    "        chisq = ChiSq(CaesarCipher(substring, k))\n",
    "        all_chisq.append(chisq)\n",
    "\n",
    "    s = alphabet[all_chisq.index(min(all_chisq))]\n",
    "    secret_key += s\n",
    "\n",
    "print(\"Key:\", secret_key)\n",
    "\n",
    "plainText = vigenere_decr(secret_key,cipherText)\n",
    "print(\"\\n\",plainText[:200])"
   ]
  },
  {
   "cell_type": "code",
   "execution_count": null,
   "id": "8fc4e9fe",
   "metadata": {},
   "outputs": [],
   "source": []
  }
 ],
 "metadata": {
  "kernelspec": {
   "display_name": "Python 3 (ipykernel)",
   "language": "python",
   "name": "python3"
  },
  "language_info": {
   "codemirror_mode": {
    "name": "ipython",
    "version": 3
   },
   "file_extension": ".py",
   "mimetype": "text/x-python",
   "name": "python",
   "nbconvert_exporter": "python",
   "pygments_lexer": "ipython3",
   "version": "3.9.12"
  }
 },
 "nbformat": 4,
 "nbformat_minor": 5
}
