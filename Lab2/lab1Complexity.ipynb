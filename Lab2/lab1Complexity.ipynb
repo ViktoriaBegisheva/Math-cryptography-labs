{
 "cells": [
  {
   "cell_type": "code",
   "execution_count": 1,
   "id": "f6632ded",
   "metadata": {},
   "outputs": [],
   "source": [
    "from datetime import datetime as dt\n",
    "from math import log, log2 "
   ]
  },
  {
   "cell_type": "code",
   "execution_count": 21,
   "id": "516cdaf1",
   "metadata": {},
   "outputs": [
    {
     "name": "stdout",
     "output_type": "stream",
     "text": [
      "0\n",
      "2.0\n",
      "5.0\n",
      "8.666666666666666\n",
      "12.833333333333332\n",
      "17.4\n",
      "22.299999999999997\n",
      "27.48571428571428\n",
      "32.92142857142857\n",
      "38.579365079365076\n",
      "44.43730158730158\n"
     ]
    }
   ],
   "source": [
    "def fun1(n):\n",
    "    c0=0\n",
    "    c=[c0]\n",
    "    for i in range(1,n+1):\n",
    "        cn=i+1+(1/i)*sum([c[j-1]+c[i-j] for j in range(1,i+1)])\n",
    "        c.append(cn)\n",
    "    return c[-1]\n",
    "for i in range(11):\n",
    "    print(fun1(i))"
   ]
  },
  {
   "cell_type": "code",
   "execution_count": 22,
   "id": "eb854921",
   "metadata": {},
   "outputs": [
    {
     "name": "stdout",
     "output_type": "stream",
     "text": [
      "44.4373015873016\n"
     ]
    }
   ],
   "source": [
    "def fun2(n):\n",
    "    c0=0\n",
    "    for i in range(1,n+1):\n",
    "        cn=((i+1)/i)*c0+2\n",
    "        c0=cn\n",
    "    return cn\n",
    "print(fun2(10))"
   ]
  },
  {
   "cell_type": "code",
   "execution_count": 23,
   "id": "448b1970",
   "metadata": {},
   "outputs": [],
   "source": [
    "n=10**4"
   ]
  },
  {
   "cell_type": "code",
   "execution_count": 24,
   "id": "38a83b74",
   "metadata": {},
   "outputs": [
    {
     "name": "stdout",
     "output_type": "stream",
     "text": [
      "0:00:09.560477\n",
      "0:00:00.000998\n"
     ]
    }
   ],
   "source": [
    "start = dt.now()\n",
    "fun1(n)\n",
    "a = dt.now() - start\n",
    "print(a)\n",
    "\n",
    "start = dt.now()\n",
    "fun2(n)\n",
    "a = dt.now() - start\n",
    "print(a)"
   ]
  },
  {
   "cell_type": "code",
   "execution_count": 25,
   "id": "032b082e",
   "metadata": {},
   "outputs": [],
   "source": [
    "n=10**5"
   ]
  },
  {
   "cell_type": "code",
   "execution_count": 39,
   "id": "38273d14",
   "metadata": {},
   "outputs": [
    {
     "name": "stdout",
     "output_type": "stream",
     "text": [
      "26785289.901190665\n",
      "0:00:00.000323\n",
      "26785482.231182374\n",
      "0:00:00.169629\n"
     ]
    }
   ],
   "source": [
    "start = dt.now()\n",
    "cn=2*(n+1)*(log(n+1)+0.57712-1)\n",
    "a = dt.now() - start\n",
    "print(cn)\n",
    "print(a)\n",
    "\n",
    "start = dt.now()\n",
    "print(fun2(n))\n",
    "a = dt.now() - start\n",
    "print(a)"
   ]
  },
  {
   "cell_type": "code",
   "execution_count": 27,
   "id": "e4ba2355",
   "metadata": {},
   "outputs": [
    {
     "name": "stdout",
     "output_type": "stream",
     "text": [
      "24.133209927007556\n"
     ]
    }
   ],
   "source": [
    "print(abs(fun2(n)-cn))"
   ]
  },
  {
   "cell_type": "code",
   "execution_count": 28,
   "id": "b21bc3d5",
   "metadata": {},
   "outputs": [
    {
     "name": "stdout",
     "output_type": "stream",
     "text": [
      "[0, 2, 3, 5, 9, 32, 53, 56, 87]\n"
     ]
    }
   ],
   "source": [
    "# QuickSort\n",
    "global count\n",
    "count=0\n",
    "def quickSort(array):\n",
    "    global count\n",
    "    qs_sort(array,0,len(array)-1)\n",
    "\n",
    "\n",
    "def qs_sort(array,a,b):\n",
    "    global count\n",
    "    if a>=b:\n",
    "        return\n",
    "\n",
    "    pivot=array[a+(b-a)//2]\n",
    "    left=a\n",
    "    right=b\n",
    "\n",
    "    while True:\n",
    "        while array[left]<pivot:\n",
    "            count+=1\n",
    "            left+=1\n",
    "        while array[right]>pivot:\n",
    "            count+=1\n",
    "            right-=1\n",
    "\n",
    "        count+=1\n",
    "        if left>=right:\n",
    "            break\n",
    "        \n",
    "        array[left],array[right]=array[right],array[left]\n",
    "        left+=1\n",
    "        right-=1\n",
    "    \n",
    "    qs_sort(array,a,right)\n",
    "    qs_sort(array,right+1,b)\n",
    "\n",
    "a=[56,32,2,9,0,3,5,87,53] \n",
    "quickSort(a)\n",
    "print(a)"
   ]
  },
  {
   "cell_type": "code",
   "execution_count": 29,
   "id": "ceeb9a9e",
   "metadata": {},
   "outputs": [
    {
     "name": "stdout",
     "output_type": "stream",
     "text": [
      "[0, 2, 3, 5, 9, 32, 53, 56, 87]\n"
     ]
    }
   ],
   "source": [
    "# MergeSort\n",
    "\n",
    "def mergeSort(array):\n",
    "    global count\n",
    "    \n",
    "    if len(array) <= 1:\n",
    "        return\n",
    "\n",
    "    m = len(array) // 2\n",
    "    left = array[:m]\n",
    "    right = array[m:]\n",
    "    \n",
    "    mergeSort(left)\n",
    "    mergeSort(right)\n",
    "    \n",
    "    i = j = k = 0\n",
    "    while i < len(left) and j < len(right):\n",
    "        count+=1\n",
    "        if left[i] < right[j]:\n",
    "            array[k] = left[i]\n",
    "            i += 1\n",
    "        else:\n",
    "            array[k] = right[j]\n",
    "            j += 1\n",
    "        k += 1\n",
    "\n",
    "    while i < len(left):\n",
    "        array[k] = left[i]\n",
    "        i += 1\n",
    "        k += 1\n",
    "\n",
    "    while j < len(right):\n",
    "        array[k] = right[j]\n",
    "        j += 1\n",
    "        k += 1\n",
    "\n",
    "a=[56,32,2,9,0,3,5,87,53] \n",
    "mergeSort(a)\n",
    "print(a)"
   ]
  },
  {
   "cell_type": "code",
   "execution_count": 30,
   "id": "61747fc0",
   "metadata": {},
   "outputs": [],
   "source": [
    "# a)\n",
    "\n",
    "from random import shuffle\n",
    "\n",
    "def generate(n,N):\n",
    "    array=[]\n",
    "    arr=[i for i in range(n)]\n",
    "    for _ in range(N):\n",
    "        shuffle(arr)\n",
    "        array.append(arr)\n",
    "    return array\n"
   ]
  },
  {
   "cell_type": "code",
   "execution_count": 31,
   "id": "1c7fea49",
   "metadata": {},
   "outputs": [
    {
     "name": "stdout",
     "output_type": "stream",
     "text": [
      "0:00:00.031378\n",
      "0:00:00.057854\n"
     ]
    }
   ],
   "source": [
    "n=10**4\n",
    "N=100\n",
    "\n",
    "array4=generate(n,N)\n",
    "\n",
    "start = dt.now()\n",
    "for arr in array4:\n",
    "    quickSort(arr)\n",
    "time_q4=(dt.now() - start)/N\n",
    "print(time_q4)\n",
    "\n",
    "start = dt.now()\n",
    "for arr in array4:\n",
    "    mergeSort(arr)\n",
    "time_m4=(dt.now() - start)/N\n",
    "print(time_m4)"
   ]
  },
  {
   "cell_type": "code",
   "execution_count": 24,
   "id": "034abbbe",
   "metadata": {},
   "outputs": [
    {
     "name": "stdout",
     "output_type": "stream",
     "text": [
      "0:00:00.198448\n",
      "0:00:00.365861\n"
     ]
    }
   ],
   "source": [
    "n=10**5\n",
    "N=100\n",
    "\n",
    "\n",
    "array5=generate(n,N)\n",
    "\n",
    "start = dt.now()\n",
    "for arr in array5:\n",
    "    quickSort(arr)\n",
    "time_q5=(dt.now() - start)/N\n",
    "print(time_q5)\n",
    "\n",
    "start = dt.now()\n",
    "for arr in array5:\n",
    "    mergeSort(arr)\n",
    "time_m5=(dt.now() - start)/N\n",
    "print(time_m5)"
   ]
  },
  {
   "cell_type": "code",
   "execution_count": 25,
   "id": "f8c87fab",
   "metadata": {},
   "outputs": [
    {
     "name": "stdout",
     "output_type": "stream",
     "text": [
      "0:00:02.428295\n",
      "0:00:04.362670\n"
     ]
    }
   ],
   "source": [
    "n=10**6 \n",
    "N=10\n",
    "\n",
    "array6=generate(n,N)\n",
    "\n",
    "start = dt.now()\n",
    "for arr in array6:\n",
    "    quickSort(arr)\n",
    "time_q6=(dt.now() - start)/N\n",
    "print(time_q6)\n",
    "\n",
    "start = dt.now()\n",
    "for arr in array6:\n",
    "    mergeSort(arr)\n",
    "time_m6=(dt.now() - start)/N\n",
    "print(time_m6)"
   ]
  },
  {
   "cell_type": "code",
   "execution_count": 36,
   "id": "0de7dcf1",
   "metadata": {},
   "outputs": [
    {
     "name": "stdout",
     "output_type": "stream",
     "text": [
      "3.406823063290059e-07 6.281418239007682e-07\n"
     ]
    }
   ],
   "source": [
    "#б\n",
    "n=10**4\n",
    "c_q = time_q4.total_seconds()/(n*log(n))\n",
    "c_m = time_m4.total_seconds()/(n*log(n))\n",
    "print(c_q,c_m)"
   ]
  },
  {
   "cell_type": "code",
   "execution_count": 37,
   "id": "38ef2107",
   "metadata": {},
   "outputs": [
    {
     "name": "stdout",
     "output_type": "stream",
     "text": [
      "4.7067000000000005 8.678099999999999\n"
     ]
    }
   ],
   "source": [
    "n=10**6\n",
    "time_q = c_q*n*log(n)\n",
    "time_m = c_m*n*log(n)\n",
    "print(time_q,time_m)"
   ]
  },
  {
   "cell_type": "code",
   "execution_count": 32,
   "id": "19bf1cf7",
   "metadata": {},
   "outputs": [
    {
     "name": "stdout",
     "output_type": "stream",
     "text": [
      "175771.69593295958\n",
      "133980.01\n"
     ]
    }
   ],
   "source": [
    "#в\n",
    "n=10**4\n",
    "N=100\n",
    "\n",
    "print(fun2(n))\n",
    "\n",
    "def comparisons(n,N=100):\n",
    "    global count\n",
    "    array=generate(n,N)\n",
    "    count_list=[]\n",
    "    for arr in array:\n",
    "        count=0\n",
    "        quickSort(arr)\n",
    "        count_list.append(count)\n",
    "    return sum(count_list)/N, count_list\n",
    "print(comparisons(n)[0])"
   ]
  },
  {
   "cell_type": "code",
   "execution_count": 33,
   "id": "76c47377",
   "metadata": {},
   "outputs": [],
   "source": [
    "import matplotlib.pyplot as plt\n",
    "\n",
    "x=[]\n",
    "y=[]\n",
    "c=[]\n",
    "l=[i for i in range(10,300)]\n",
    "for i in range(10,300):\n",
    "    x.append(fun2(i))\n",
    "    comp=comparisons(i)\n",
    "    y.append(comp[0])\n",
    "    c.append(comp[1])"
   ]
  },
  {
   "cell_type": "code",
   "execution_count": 34,
   "id": "19013e21",
   "metadata": {},
   "outputs": [
    {
     "data": {
      "image/png": "[encoded data removed]",
      "text/plain": [
       "<Figure size 432x288 with 1 Axes>"
      ]
     },
     "metadata": {
      "needs_background": "light"
     },
     "output_type": "display_data"
    }
   ],
   "source": [
    "plt.plot(x,l, color = \"yellow\")\n",
    "n0=10\n",
    "for c0 in c:\n",
    "    plt.scatter(c0,[n0]*len(c0),s=3, color = \"grey\")\n",
    "    n0+=1\n",
    "plt.plot(y,l, color = \"blue\")\n",
    "plt.show()"
   ]
  },
  {
   "cell_type": "code",
   "execution_count": 13,
   "id": "753a247d",
   "metadata": {},
   "outputs": [],
   "source": [
    "from itertools import permutations"
   ]
  },
  {
   "cell_type": "code",
   "execution_count": 14,
   "id": "5d5bdb82",
   "metadata": {},
   "outputs": [],
   "source": [
    "#г\n",
    "n1 = 9\n",
    "n2 = 10\n",
    "\n",
    "def func(n,sortFunc):\n",
    "    global count\n",
    "    f_k={}\n",
    "    \n",
    "    pq = permutations([i for i in range(n)])\n",
    "    for p in pq:\n",
    "        count = 0\n",
    "        sortFunc(list(p))\n",
    "        if count in f_k:\n",
    "            f_k[count]+= 1\n",
    "        else:\n",
    "            f_k[count] = 1\n",
    "\n",
    "    plt.bar(list(f_k.keys()), f_k.values())\n",
    "    plt.show()\n",
    "    return f_k"
   ]
  },
  {
   "cell_type": "code",
   "execution_count": 15,
   "id": "9f188590",
   "metadata": {},
   "outputs": [
    {
     "data": {
      "image/png": "[encoded data removed]",
      "text/plain": [
       "<Figure size 432x288 with 1 Axes>"
      ]
     },
     "metadata": {
      "needs_background": "light"
     },
     "output_type": "display_data"
    },
    {
     "name": "stdout",
     "output_type": "stream",
     "text": [
      "{29: 50290, 30: 40522, 28: 56066, 31: 29074, 34: 15124, 33: 24324, 32: 28708, 27: 47630, 35: 11208, 37: 6556, 40: 1464, 39: 2848, 38: 3712, 36: 8492, 26: 25384, 42: 576, 43: 256, 41: 960, 25: 7916, 44: 320, 24: 1376, 23: 74}\n"
     ]
    }
   ],
   "source": [
    "print(func(n1,quickSort))"
   ]
  },
  {
   "cell_type": "code",
   "execution_count": 16,
   "id": "3b1cf955",
   "metadata": {},
   "outputs": [
    {
     "data": {
      "image/png": "[encoded data removed]",
      "text/plain": [
       "<Figure size 432x288 with 1 Axes>"
      ]
     },
     "metadata": {
      "needs_background": "light"
     },
     "output_type": "display_data"
    },
    {
     "name": "stdout",
     "output_type": "stream",
     "text": [
      "{34: 424238, 35: 345860, 33: 472917, 36: 281818, 32: 443454, 31: 330983, 37: 249008, 44: 36200, 41: 90948, 40: 126460, 43: 58296, 39: 169488, 42: 74160, 38: 216572, 45: 25360, 30: 170030, 47: 13752, 50: 2928, 49: 5696, 48: 7424, 46: 19736, 52: 1152, 53: 512, 51: 1920, 29: 51203, 54: 640, 28: 7628, 27: 417}\n"
     ]
    }
   ],
   "source": [
    "print(func(n2,quickSort))"
   ]
  },
  {
   "cell_type": "code",
   "execution_count": 17,
   "id": "93f05e74",
   "metadata": {},
   "outputs": [
    {
     "data": {
      "image/png": "[encoded data removed]",
      "text/plain": [
       "<Figure size 432x288 with 1 Axes>"
      ]
     },
     "metadata": {
      "needs_background": "light"
     },
     "output_type": "display_data"
    },
    {
     "name": "stdout",
     "output_type": "stream",
     "text": [
      "{13: 32, 14: 384, 15: 2304, 16: 9152, 17: 27168, 18: 61440, 19: 101120, 20: 107520, 21: 53760}\n"
     ]
    }
   ],
   "source": [
    "print(func(n1,mergeSort))"
   ]
  },
  {
   "cell_type": "code",
   "execution_count": 18,
   "id": "7b9fe7c5",
   "metadata": {},
   "outputs": [
    {
     "data": {
      "image/png": "[encoded data removed]",
      "text/plain": [
       "<Figure size 432x288 with 1 Axes>"
      ]
     },
     "metadata": {
      "needs_background": "light"
     },
     "output_type": "display_data"
    },
    {
     "name": "stdout",
     "output_type": "stream",
     "text": [
      "{15: 32, 16: 480, 17: 3648, 18: 18368, 19: 68448, 20: 197856, 21: 448448, 22: 779520, 23: 983040, 24: 806400, 25: 322560}\n"
     ]
    }
   ],
   "source": [
    "print(func(n2,mergeSort))"
   ]
  },
  {
   "cell_type": "code",
   "execution_count": null,
   "id": "e6c2b6c7",
   "metadata": {},
   "outputs": [],
   "source": []
  }
 ],
 "metadata": {
  "kernelspec": {
   "display_name": "Python 3 (ipykernel)",
   "language": "python",
   "name": "python3"
  },
  "language_info": {
   "codemirror_mode": {
    "name": "ipython",
    "version": 3
   },
   "file_extension": ".py",
   "mimetype": "text/x-python",
   "name": "python",
   "nbconvert_exporter": "python",
   "pygments_lexer": "ipython3",
   "version": "3.9.12"
  }
 },
 "nbformat": 4,
 "nbformat_minor": 5
}
